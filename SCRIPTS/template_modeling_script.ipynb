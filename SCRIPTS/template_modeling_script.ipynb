{
  "cells": [
    {
      "cell_type": "markdown",
      "metadata": {
        "colab_type": "text",
        "id": "view-in-github"
      },
      "source": [
        "<a href=\"https://colab.research.google.com/github/bwillow1222/ds4002MI3P2/blob/main/ViewershipModeling.ipynb\" target=\"_parent\"><img src=\"https://colab.research.google.com/assets/colab-badge.svg\" alt=\"Open In Colab\"/></a>"
      ]
    },
    {
      "cell_type": "code",
      "execution_count": null,
      "metadata": {
        "id": "CowDyeW4oV1q"
      },
      "outputs": [],
      "source": [
        "import pandas as pd\n",
        "import matplotlib.pyplot as plt\n",
        "from statsmodels.tsa.holtwinters import ExponentialSmoothing\n",
        "\n",
        "NFLdata = pd.read_csv('https://raw.githubusercontent.com/bwillow1222/ds4002MI3P2/refs/heads/main/DATA/NFL.csv')\n",
        "NBAdata = pd.read_csv('https://raw.githubusercontent.com/bwillow1222/ds4002MI3P2/refs/heads/main/DATA/NBA.csv')\n",
        "MLBdata = pd.read_csv('https://raw.githubusercontent.com/bwillow1222/ds4002MI3P2/refs/heads/main/DATA/MLB.csv')\n",
        "NHLdata = pd.read_csv('https://raw.githubusercontent.com/bwillow1222/ds4002MI3P2/refs/heads/main/DATA/NHL.csv')\n",
        "\n"
      ]
    },
    {
      "cell_type": "code",
      "execution_count": null,
      "metadata": {
        "colab": {
          "base_uri": "https://localhost:8080/",
          "height": 653
        },
        "id": "ySzXKzultoZ4",
        "outputId": "2cd06550-8ac6-4e1a-c62d-2e51fd683488"
      },
      "outputs": [],
      "source": [
        "# NFL\n",
        "\n",
        "# Train the model on data up to 2020\n",
        "\n",
        "# Forecast from 2021 to 2024\n",
        "\n",
        "# Extract actual viewership from 2021 to 2024\n",
        "\n",
        "# Calculate the percentage difference between actual and forecasted viewership\n",
        "\n",
        "# Display the differences\n",
        "\n",
        "# Plot the model, forecast, and actual data\n"
      ]
    },
    {
      "cell_type": "code",
      "execution_count": null,
      "metadata": {
        "colab": {
          "base_uri": "https://localhost:8080/",
          "height": 671
        },
        "id": "6jbp0z9mvbd-",
        "outputId": "cf2d7e55-0586-4a35-befe-a4ad03a721ad"
      },
      "outputs": [],
      "source": [
        "# NBA\n",
        "\n",
        "# Train the model on data up to 2019\n",
        "\n",
        "# Forecast from 2020 to 2024\n",
        "\n",
        "# Extract actual viewership from 2021 to 2024\n",
        "\n",
        "# Calculate the percentage difference between actual and forecasted viewership\n",
        "\n",
        "# Display the differences\n",
        "\n",
        "# Plot the model, forecast, and actual data\n"
      ]
    },
    {
      "cell_type": "code",
      "execution_count": null,
      "metadata": {
        "colab": {
          "base_uri": "https://localhost:8080/",
          "height": 653
        },
        "id": "Fl3VkY7_w5Hf",
        "outputId": "743a277f-0be8-40d6-cd13-8568f528b5df"
      },
      "outputs": [],
      "source": [
        "# MLB\n",
        "\n",
        "# Train the model on data up to 2019\n",
        "\n",
        "# Forecast from 2020 to 2023\n",
        "\n",
        "# Extract actual viewership from 2021 to 2024\n",
        "\n",
        "# Calculate the percentage difference between actual and forecasted viewership\n",
        "\n",
        "# Display the differences\n",
        "\n",
        "\n",
        "# Plot the model, forecast, and actual data\n"
      ]
    },
    {
      "cell_type": "code",
      "execution_count": null,
      "metadata": {
        "colab": {
          "base_uri": "https://localhost:8080/",
          "height": 653
        },
        "id": "ekE9rFxRw57y",
        "outputId": "b53b0a22-9b6f-4061-da20-7b9382b7f4d6"
      },
      "outputs": [],
      "source": [
        "# NHL\n",
        "\n",
        "# Train the model on data up to 2019\n",
        "\n",
        "# Forecast from 2020 to 2024\n",
        "\n",
        "# Extract actual viewership from 2021 to 2024\n",
        "\n",
        "# Calculate the percentage difference between actual and forecasted viewership\n",
        "\n",
        "# Display the differences\n",
        "\n",
        "# Plot the model, forecast, and actual data"
      ]
    }
  ],
  "metadata": {
    "colab": {
      "include_colab_link": true,
      "provenance": []
    },
    "kernelspec": {
      "display_name": "Python 3",
      "name": "python3"
    },
    "language_info": {
      "name": "python"
    }
  },
  "nbformat": 4,
  "nbformat_minor": 0
}
