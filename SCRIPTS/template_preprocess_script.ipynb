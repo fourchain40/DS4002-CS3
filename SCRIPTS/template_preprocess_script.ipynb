{
  "cells": [
    {
      "cell_type": "markdown",
      "metadata": {
        "colab_type": "text",
        "id": "view-in-github"
      },
      "source": [
        "<a href=\"https://colab.research.google.com/github/bwillow1222/ds4002MI3P2/blob/main/P2_EDA.ipynb\" target=\"_parent\"><img src=\"https://colab.research.google.com/assets/colab-badge.svg\" alt=\"Open In Colab\"/></a>"
      ]
    },
    {
      "cell_type": "code",
      "execution_count": null,
      "metadata": {
        "colab": {
          "base_uri": "https://localhost:8080/",
          "height": 1000
        },
        "id": "pA9CtkmkP7kc",
        "outputId": "3df63d3a-41aa-47af-aca1-7b9f4f8f0753"
      },
      "outputs": [],
      "source": [
        "# prompt: given 4 csv's, each containing a column for year and a column for viewership, plot viewership vs. year for each one. for the first plot, add a vertical dashed red line between 2020 and 2021. for the other three, add a vertical red line between 2019 and 2020\n",
        "\n",
        "import pandas as pd\n",
        "import matplotlib.pyplot as plt\n",
        "\n",
        "# Replace these with your actual file paths\n",
        "file_paths = ['NFL.csv', 'NBA.csv', 'MLB.csv', 'NHL.csv']\n",
        "plot_titles = ['NFL Super Bowl', 'NBA Finals', 'MLB World Series', 'NHL Stanley Cup']\n",
        "\n",
        "for i, file_path in enumerate(file_paths):\n",
        "  df = pd.read_csv(file_path)\n",
        "  ## TO DO"
      ]
    }
  ],
  "metadata": {
    "colab": {
      "authorship_tag": "ABX9TyNzpAV0PEVDpdhT2gcMdi8c",
      "include_colab_link": true,
      "provenance": []
    },
    "kernelspec": {
      "display_name": "Python 3",
      "language": "python",
      "name": "python3"
    },
    "language_info": {
      "name": "python",
      "version": "3.9.6 (default, May  7 2023, 23:32:44) \n[Clang 14.0.3 (clang-1403.0.22.14.1)]"
    },
    "vscode": {
      "interpreter": {
        "hash": "31f2aee4e71d21fbe5cf8b01ff0e069b9275f58929596ceb00d14d90e3e16cd6"
      }
    }
  },
  "nbformat": 4,
  "nbformat_minor": 0
}
